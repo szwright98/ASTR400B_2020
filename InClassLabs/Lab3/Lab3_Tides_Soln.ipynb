{
 "cells": [
  {
   "cell_type": "code",
   "execution_count": 1,
   "metadata": {
    "collapsed": true
   },
   "outputs": [],
   "source": [
    "# In Class Lab 3\n",
    "# G. Besla \n",
    "\n",
    "# import relevant modules \n",
    "import astropy.units as u\n",
    "import numpy as np"
   ]
  },
  {
   "cell_type": "markdown",
   "metadata": {},
   "source": [
    "The Large Magellanic Cloud is at a distance of 50 kpc from the Galactic Center. \n",
    "It is observed to have a stellar disk that extends to a radius of at least 18.5 kpc.\n",
    "\n",
    "![LMC](./Lab3_Tidal.png)\n",
    "Deep photometric imaging reveals the faint stellar outskirts of the LMC. \n",
    "Outskirts: DECam data Mackey+2016 MNRAS 459, 239. \n",
    "Inner: shallower imaging from robotic telescopes Besla+2016 APJ 825.\n",
    "\n",
    "In this lab we will determine\n",
    "the minimum mass required for the LMC so that it maintains the observed radius \n",
    "in the face of the Milky Way's tidal field. "
   ]
  },
  {
   "cell_type": "markdown",
   "metadata": {},
   "source": [
    "# Part A\n",
    "\n",
    "We define the mass profile of the Milky Way using a Hernquist profile.\n",
    "\n",
    "\n",
    "$\\rho(r) =  \\frac{M_{halo}}{2\\pi} \\frac{a}{r(r+a)^3} \\qquad M(r) =  \\frac{M_{halo} r^2}{(a+r)^2}$ \n",
    "\n"
   ]
  },
  {
   "cell_type": "markdown",
   "metadata": {},
   "source": [
    "## #1\n",
    "\n",
    "Create a function `HernquistM` that returns the dark matter halo mass at a given radius in units of solar mass.\n",
    "This function should take as input:  the distance from the Galactic center $r$, the scale radius $a$, and the halo mass $M_{halo}$.\n",
    "\n",
    "\n",
    "For the Hernquist scale radius for the Milky Way, use $a=60$ kpc. \n",
    "\n",
    "For $M_{halo}$ use your answer for the total mass of the simulated Milky Way you computed in Homework 3. "
   ]
  },
  {
   "cell_type": "code",
   "execution_count": 2,
   "metadata": {
    "collapsed": true
   },
   "outputs": [],
   "source": [
    "# Question 1\n",
    "# Function that returns the Hernquist 1990 Mass profile\n",
    "def HernquistM(r,a=60, Mhalo=1.96):\n",
    "# Input:  Radius (kpc), Hernquist Scale Length (kpc), Total Mass (1e12 Msun)\n",
    "# Defaults for scale length is 60 kpc, Default for Halo Mass is for MW from Assignment 3 \n",
    "# Returns: Mass in units of Msun\n",
    "    return round(Mhalo*r**2/(a+r)**2,2)*1e12*u.Msun"
   ]
  },
  {
   "cell_type": "code",
   "execution_count": 65,
   "metadata": {},
   "outputs": [
    {
     "data": {
      "text/latex": [
       "$1.94 \\times 10^{12} \\; \\mathrm{M_{\\odot}}$"
      ],
      "text/plain": [
       "<Quantity 1940000000000.0 solMass>"
      ]
     },
     "execution_count": 65,
     "metadata": {},
     "output_type": "execute_result"
    }
   ],
   "source": [
    "print(HernquistM(10000))"
   ]
  },
  {
   "cell_type": "code",
   "execution_count": 66,
   "metadata": {},
   "outputs": [
    {
     "data": {
      "text/latex": [
       "$1.29 \\times 10^{12} \\; \\mathrm{M_{\\odot}}$"
      ],
      "text/plain": [
       "<Quantity 1290000000000.0 solMass>"
      ]
     },
     "execution_count": 66,
     "metadata": {},
     "output_type": "execute_result"
    }
   ],
   "source": [
    "print(HernquistM(260))"
   ]
  },
  {
   "cell_type": "code",
   "execution_count": 67,
   "metadata": {},
   "outputs": [
    {
     "data": {
      "text/latex": [
       "$4 \\times 10^{11} \\; \\mathrm{M_{\\odot}}$"
      ],
      "text/plain": [
       "<Quantity 400000000000.0 solMass>"
      ]
     },
     "execution_count": 67,
     "metadata": {},
     "output_type": "execute_result"
    }
   ],
   "source": [
    "print(HernquistM(50))"
   ]
  },
  {
   "cell_type": "markdown",
   "metadata": {},
   "source": [
    "## #2\n",
    "\n",
    "Compute the total mass of the Milky Way within 50 kpc, including it's baryonic component (Dark Matter + Bulge + Disk), in units of solar mass. Use your answers from Homework 3 for the Bulge and Disk Masses. \n",
    "Store this as a variable called `MassMW50`.\n"
   ]
  },
  {
   "cell_type": "code",
   "execution_count": 4,
   "metadata": {
    "collapsed": true
   },
   "outputs": [],
   "source": [
    "# MW disk mass and bulge mass\n",
    "# using answers from assignment 3 \n",
    "Mdisk =  7.5e10*u.Msun\n",
    "Mbulge = 1e10*u.Msun"
   ]
  },
  {
   "cell_type": "code",
   "execution_count": 5,
   "metadata": {},
   "outputs": [
    {
     "data": {
      "text/latex": [
       "$4.85 \\times 10^{11} \\; \\mathrm{M_{\\odot}}$"
      ],
      "text/plain": [
       "<Quantity 485000000000.0 solMass>"
      ]
     },
     "execution_count": 5,
     "metadata": {},
     "output_type": "execute_result"
    }
   ],
   "source": [
    "# determine the total mass of the MW within 50 kpc\n",
    "# Kochanek+1996 find 4.9e11\n",
    "MassMW50 = HernquistM(50,60,1.96) + Mdisk + Mbulge\n",
    "MassMW50"
   ]
  },
  {
   "cell_type": "markdown",
   "metadata": {},
   "source": [
    "# Part B\n",
    "\n",
    "The Jacobi Radius for a satellite on a circular orbit about an extended host, where \n",
    "the host is assumed to be well modeled as an isothermal sphere halo:\n",
    "\n",
    "\n",
    "$R_j = r  \\bigg( \\frac{M_{sat}}{2 M_{host}(<r)} \\bigg)^{1/3}$\n",
    "\n",
    "\n",
    "The Isothermal Sphere approximation is not a bad one within 50 kpc.\n",
    "\n",
    "Note also that the LMC is not on a circular orbit, but it is very close to its pericentric approach, where the velocity is all in the tangential component. So this isn't a terrible approximation either. \n",
    "\n",
    "## #1\n",
    "Create a function called `JacobiMass` that returns the total mass of a satellite galaxy in units of Msun, \n",
    "such that it has a given size \n",
    "\n",
    "Do this by rearranging the Jacobi Radius equation to solve for the satellite mass. \n"
   ]
  },
  {
   "cell_type": "code",
   "execution_count": 52,
   "metadata": {
    "collapsed": true
   },
   "outputs": [],
   "source": [
    "# Part B . Question 1 \n",
    "\n",
    "# Function that returns the minimum Satellite Mass\n",
    "# needed to maintain a satellite's size and properties of a host galaxy.\n",
    "# Given the Equation for the Jacobi Radius for an extended host, \n",
    "# we can rearrange the equation so that it returns the \n",
    "# minimum required satellite mass to maintain an observed radius\n",
    "def JacobiMass(Rj,r,Mhost):\n",
    "# input :  Rj = Jacobi Radius is approximated by the Observed Size of the Satellite in kpc\n",
    "#        : r = distance to host in kpc\n",
    "#        : Mhost = Host Mass enclosed within r in units of Msun\n",
    "#  Returns: minimum satellite mass within its current size, in Msun\n",
    "    return (Rj/r)**3*2*Mhost\n",
    "    "
   ]
  },
  {
   "cell_type": "markdown",
   "metadata": {},
   "source": [
    "## #2 \n",
    "\n",
    "Determine the minimum total mass of the LMC needed to maintain its radius of 18.5 kpc in the face of the Milky Way's tidal \n",
    "field at its current distance of 50 kpc. Store this as a variable called `LMCJacobiMass`."
   ]
  },
  {
   "cell_type": "code",
   "execution_count": 7,
   "metadata": {
    "collapsed": true
   },
   "outputs": [],
   "source": [
    "# Observed size of the LMC disk\n",
    "# Mackey+2016\n",
    "SizeL = 18.5*u.kpc\n",
    "DistL = 50.0*u.kpc"
   ]
  },
  {
   "cell_type": "code",
   "execution_count": 54,
   "metadata": {},
   "outputs": [
    {
     "data": {
      "text/latex": [
       "$4.913341 \\times 10^{10} \\; \\mathrm{M_{\\odot}}$"
      ],
      "text/plain": [
       "<Quantity 49133410000.0 solMass>"
      ]
     },
     "execution_count": 54,
     "metadata": {},
     "output_type": "execute_result"
    }
   ],
   "source": [
    "# LMC minimum mass in maximal MW halo model (from Simulation)\n",
    "LMCJacobiMass = JacobiMass(SizeL,DistL,MassMW50)\n",
    "print(LMCJacobiMass)"
   ]
  },
  {
   "cell_type": "markdown",
   "metadata": {},
   "source": [
    "## #3\n",
    "\n",
    "Recall that, ignoring centrifugal forces and assuming the host is a point mass, the tidal radius is given as :\n",
    "\n",
    "$r_{tide} = r\\left (\\frac{m_{sat}}{4M_{host} } \\right)^{1/3} $\n",
    "\n",
    "Create a function to compute the total mass the must LMC possess to have a disk with radius 18.5 kpc.\n",
    "\n",
    "The function should take as input, the current size of the satellite (kpc), this distnce ot the host(kpc) and the mass of the host (in Msun)\n",
    "\n",
    "Use the function to determine the needed LMC mass and store it as a variable called `LMCTidalMass`. "
   ]
  },
  {
   "cell_type": "code",
   "execution_count": 19,
   "metadata": {
    "collapsed": true
   },
   "outputs": [],
   "source": [
    "# Function to compute the mass of the satellite needed such that the tidal radius is the current size of the \n",
    "# galaxy, ignoring centrifugal forces\n",
    "def TidalMass(rtide, r, Mhost):\n",
    "    # Input:  rtide, the tidal radius in kpc\n",
    "    #        r, distance from host in kpc\n",
    "    #       Mhost: Mass of the host galaxy in Msun\n",
    "    #Returns: the satellite mass in Msun\n",
    "    return 4*Mhost*(rtide/r)**3 "
   ]
  },
  {
   "cell_type": "code",
   "execution_count": 21,
   "metadata": {},
   "outputs": [
    {
     "data": {
      "text/latex": [
       "$9.826682 \\times 10^{10} \\; \\mathrm{M_{\\odot}}$"
      ],
      "text/plain": [
       "<Quantity 98266820000.0 solMass>"
      ]
     },
     "execution_count": 21,
     "metadata": {},
     "output_type": "execute_result"
    }
   ],
   "source": [
    "LMCTidalMass = TidalMass(SizeL,DistL,MassMW50)\n",
    "print(LMCTidalMass)"
   ]
  },
  {
   "cell_type": "markdown",
   "metadata": {},
   "source": [
    "## #4\n",
    "\n",
    "Compare `LMCTidalMass` to the calculation using the Jacobi Radius.\n",
    "How does the total mass of the LMC compare to its stellar mass (M$_\\ast = 3 \\times 10^9$ M$_\\odot$)? \n"
   ]
  },
  {
   "cell_type": "code",
   "execution_count": 25,
   "metadata": {},
   "outputs": [
    {
     "name": "stdout",
     "output_type": "stream",
     "text": [
      "2.0\n"
     ]
    }
   ],
   "source": [
    "print(LMCTidalMass/LMCJacobiMass)\n",
    "# Because of centrifugal forces the minimum mass is smaller using the Jacobi Radius. "
   ]
  },
  {
   "cell_type": "code",
   "execution_count": 23,
   "metadata": {
    "collapsed": true
   },
   "outputs": [],
   "source": [
    "LMCMstar = 3e9*u.Msun"
   ]
  },
  {
   "cell_type": "code",
   "execution_count": 26,
   "metadata": {},
   "outputs": [
    {
     "name": "stdout",
     "output_type": "stream",
     "text": [
      "16.377803333333333\n"
     ]
    }
   ],
   "source": [
    "print(LMCJacobiMass/LMCMstar)\n",
    "# Mass ratio is ~ factor of 20. "
   ]
  },
  {
   "cell_type": "markdown",
   "metadata": {
    "collapsed": true
   },
   "source": [
    "# Part C: Consistency Check\n",
    "\n",
    "\n",
    "The maximal enclosed mass of the LMC at any radius can be determined by assuming a flat rotation curve. \n",
    "\n",
    "$V_c^2 = \\frac{G M}{r} = constant$\n",
    " \n",
    " The rotation curve of the LMC is observed to flatten at a value of 91.7 +/- 18.8 km/s  (van der Marel & Kallivayalil 2014 ApJ 781)\n",
    "  (note that 1 kpc/Gyr $\\sim$ 1 km/s). \n",
    " \n",
    " Create a function called `MaxMass` that takes as input Vc (km/s) and distance to from the center of the galaxy (r) and returns the maximal dynamical mass in Msun. \n",
    " \n"
   ]
  },
  {
   "cell_type": "code",
   "execution_count": 27,
   "metadata": {
    "collapsed": true
   },
   "outputs": [],
   "source": [
    "# gravitational constant in units of kpc^3/Gyr^2/Msun\n",
    "G = 4.498768e-6*u.kpc**3/u.Gyr**2/u.Msun"
   ]
  },
  {
   "cell_type": "code",
   "execution_count": 45,
   "metadata": {
    "collapsed": true
   },
   "outputs": [],
   "source": [
    "# Maximal LMC mass\n",
    "# Assuming LMC has a flat rotation curve to 18.5 kpc\n",
    "# Vc = 91.7 +/- 18.8 km/s  van der Marel & Kallivayalil 2014\n",
    "# 1 km/s ~ 1 kpc/Gyr\n",
    "Vc = 91.7*u.kpc/u.Gyr"
   ]
  },
  {
   "cell_type": "code",
   "execution_count": 37,
   "metadata": {},
   "outputs": [],
   "source": [
    "# MLMC Vc^2 = GM/R = constant, rearrange for M:\n",
    "def MaxMass(Vcirc=Vc, R=SizeL):\n",
    "    return Vcirc**2/G*R\n"
   ]
  },
  {
   "cell_type": "markdown",
   "metadata": {},
   "source": [
    " \n",
    "##  #1  \n",
    "Compute the maximal mass enclosed by the LMC within the observed radius. Store it as a variable called `LMCMassMax`. "
   ]
  },
  {
   "cell_type": "code",
   "execution_count": 40,
   "metadata": {},
   "outputs": [
    {
     "data": {
      "text/latex": [
       "$3.4579348 \\times 10^{10} \\; \\mathrm{M_{\\odot}}$"
      ],
      "text/plain": [
       "<Quantity 34579348168.20961 solMass>"
      ]
     },
     "execution_count": 40,
     "metadata": {},
     "output_type": "execute_result"
    }
   ],
   "source": [
    "LMCMassMax = MaxMass()\n",
    "print(LMCMassMax)"
   ]
  },
  {
   "cell_type": "markdown",
   "metadata": {},
   "source": [
    "## #2\n",
    "\n",
    "Is `LMCMassMax` consistent with `LMCJacobiMin`, the minimum mass needed to explain the observed radius of the LMC given the tidal field of the MW? If not, how could the numbers be reconciled?"
   ]
  },
  {
   "cell_type": "code",
   "execution_count": 41,
   "metadata": {},
   "outputs": [
    {
     "name": "stdout",
     "output_type": "stream",
     "text": [
      "0.7037848211270011\n"
     ]
    }
   ],
   "source": [
    "print(LMCMassMax/LMCJacobiMass)"
   ]
  },
  {
   "cell_type": "markdown",
   "metadata": {
    "collapsed": true
   },
   "source": [
    "The minimum mass needed seems larger than the maximal mass possible.\n",
    "Either the LMC rotation curve needs to be higher (which it could within the errors)\n",
    "Or MW halo mass within 50 kpc is smaller, e.g. $3\\times 10^{11}$ M$_\\odot$.\n",
    "\n",
    "Although note, the values are pretty close to being the same. "
   ]
  },
  {
   "cell_type": "code",
   "execution_count": 57,
   "metadata": {},
   "outputs": [
    {
     "data": {
      "text/latex": [
       "$5.0211441 \\times 10^{10} \\; \\mathrm{M_{\\odot}}$"
      ],
      "text/plain": [
       "<Quantity 50211441221.24101 solMass>"
      ]
     },
     "execution_count": 57,
     "metadata": {},
     "output_type": "execute_result"
    }
   ],
   "source": [
    "# Try increasing the LMC circular speed by 1 sigma\n",
    "Vnew = Vc + 18.8*u.kpc/u.Gyr\n",
    "print(MaxMass(Vcirc=Vnew))\n",
    "\n"
   ]
  },
  {
   "cell_type": "code",
   "execution_count": 55,
   "metadata": {},
   "outputs": [
    {
     "data": {
      "text/latex": [
       "$3.03918 \\times 10^{10} \\; \\mathrm{M_{\\odot}}$"
      ],
      "text/plain": [
       "<Quantity 30391799999.999996 solMass>"
      ]
     },
     "execution_count": 55,
     "metadata": {},
     "output_type": "execute_result"
    }
   ],
   "source": [
    "# LMC minimum mass in lower mass MW halo model  (recall Hernquist model gives 4e11 Msun within 50 kpc)\n",
    "MinMW = 3e11*u.Msun\n",
    "print(JacobiMass(SizeL,DistL,MinMW))"
   ]
  },
  {
   "cell_type": "markdown",
   "metadata": {},
   "source": [
    "Note that another equation can be used to describe the Jacobi radius if both the LMC and MW have flat rotation curves to large distances."
   ]
  },
  {
   "cell_type": "code",
   "execution_count": null,
   "metadata": {
    "collapsed": true
   },
   "outputs": [],
   "source": [
    "# From van der Marel et al. 2002 \n",
    "# assuming a flat rotation curve for the MW and \n",
    "# for the satellite\n",
    "def JacobiFlatVc(rsep,VcSat,VcHost):\n",
    "    return rsep*(VcSat/VcHost)"
   ]
  },
  {
   "cell_type": "code",
   "execution_count": null,
   "metadata": {},
   "outputs": [],
   "source": [
    "# MW Vc = 206 to get M(<50 )= 4.9e11, assuming isothermal sphere.\n",
    "JacobiFlatVc(DistL,91.7,240)"
   ]
  },
  {
   "cell_type": "code",
   "execution_count": null,
   "metadata": {
    "collapsed": true
   },
   "outputs": [],
   "source": []
  }
 ],
 "metadata": {
  "kernelspec": {
   "display_name": "Python 3",
   "language": "python",
   "name": "python3"
  },
  "language_info": {
   "codemirror_mode": {
    "name": "ipython",
    "version": 3
   },
   "file_extension": ".py",
   "mimetype": "text/x-python",
   "name": "python",
   "nbconvert_exporter": "python",
   "pygments_lexer": "ipython3",
   "version": "3.6.1"
  }
 },
 "nbformat": 4,
 "nbformat_minor": 2
}
