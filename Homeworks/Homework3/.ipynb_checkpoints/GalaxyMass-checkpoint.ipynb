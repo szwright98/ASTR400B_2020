{
 "cells": [
  {
   "cell_type": "code",
   "execution_count": 1,
   "metadata": {
    "collapsed": true
   },
   "outputs": [],
   "source": [
    "# Homework 3 Solutions\n",
    "# Computing the Mass of the Local Group\n",
    "# G. Besla"
   ]
  },
  {
   "cell_type": "code",
   "execution_count": 2,
   "metadata": {
    "collapsed": true
   },
   "outputs": [],
   "source": [
    "# import necessary modules\n",
    "# numpy provides powerful multi-dimensional arrays to hold and manipulate data\n",
    "import numpy as np\n",
    "# astropy provides unit system for astronomical calculations\n",
    "import astropy.units as u\n",
    "# import previous HW functions\n",
    "from ReadFile import Read\n",
    "# import Latex module so we can display the results with symbols\n",
    "from IPython.display import Latex"
   ]
  },
  {
   "cell_type": "code",
   "execution_count": 3,
   "metadata": {
    "collapsed": true
   },
   "outputs": [],
   "source": [
    "\n",
    "def ComponentMass(filename, PType):\n",
    "# function to compute the mass of all particles of a given type for a given galaxy \n",
    "# input:  filename (str) ,  Particle type (1,2,3)\n",
    "# output: Mass in units of 1e12 Msun. \n",
    "    \n",
    "     # read in the file \n",
    "    time, total, data = Read(filename)\n",
    "    \n",
    "    #create an array to store indexes of particles of desired Ptype\n",
    "    index = np.where(data['type'] == PType)\n",
    "    \n",
    "    # create new arrays with the m of just the Ptype desired.\n",
    "    mnew = data['m'][index]*1e10*u.Msun\n",
    "  \n",
    "    \n",
    "    # sum the mass of all particles to get total\n",
    "    # round to 3 decimal places\n",
    "    mass = np.round(sum(mnew)/1e12,3)\n",
    "    \n",
    "    # return the mass \n",
    "    return mass"
   ]
  },
  {
   "cell_type": "code",
   "execution_count": 4,
   "metadata": {
    "collapsed": true
   },
   "outputs": [],
   "source": [
    "# MW Mass\n",
    "MWHalo = ComponentMass(\"MW_000.txt\",1)\n",
    "MWDisk = ComponentMass(\"MW_000.txt\",2)\n",
    "MWBulge = ComponentMass(\"MW_000.txt\",3)"
   ]
  },
  {
   "cell_type": "code",
   "execution_count": 6,
   "metadata": {},
   "outputs": [
    {
     "name": "stdout",
     "output_type": "stream",
     "text": [
      "MW Halo Mass 1.975 solMass (x 10^12)\n",
      "MW Disk Mass 0.075 solMass (x 10^12)\n",
      "MW Bulge Mass 0.01 solMass (x 10^12)\n",
      "Total MW 2.06 solMass (x 10^12)\n"
     ]
    }
   ],
   "source": [
    "print(\"MW Halo Mass\", MWHalo, \"(x 10^12)\")\n",
    "print(\"MW Disk Mass\", MWDisk, \"(x 10^12)\" )\n",
    "print(\"MW Bulge Mass\", MWBulge, \"(x 10^12)\")\n",
    "TotalMW = MWHalo + MWDisk + MWBulge\n",
    "print(\"Total MW\", TotalMW, \"(x 10^12)\")"
   ]
  },
  {
   "cell_type": "code",
   "execution_count": 7,
   "metadata": {
    "collapsed": true
   },
   "outputs": [],
   "source": [
    "# M31 Mass\n",
    "M31Halo = ComponentMass(\"M31_000.txt\",1)\n",
    "M31Disk = ComponentMass(\"M31_000.txt\",2)\n",
    "M31Bulge = ComponentMass(\"M31_000.txt\",3)"
   ]
  },
  {
   "cell_type": "code",
   "execution_count": 8,
   "metadata": {},
   "outputs": [
    {
     "name": "stdout",
     "output_type": "stream",
     "text": [
      "M31 Halo Mass 1.921 solMass (x 10^12)\n",
      "M31 Disk Mass 0.12 solMass (x 10^12)\n",
      "M31 Bulge Mass 0.019 solMass (x 10^12)\n",
      "Total M31 2.06 solMass (x 10^12)\n"
     ]
    }
   ],
   "source": [
    "print(\"M31 Halo Mass\", M31Halo, \"(x 10^12)\")\n",
    "print(\"M31 Disk Mass\", M31Disk, \"(x 10^12)\")\n",
    "print(\"M31 Bulge Mass\", M31Bulge, \"(x 10^12)\")\n",
    "TotalM31 = M31Halo + M31Disk + M31Bulge\n",
    "print(\"Total M31\", TotalM31, \"(x 10^12)\")"
   ]
  },
  {
   "cell_type": "code",
   "execution_count": 9,
   "metadata": {
    "collapsed": true
   },
   "outputs": [],
   "source": [
    "# M33 Mass\n",
    "M33Halo = ComponentMass(\"M33_000.txt\",1)\n",
    "M33Disk = ComponentMass(\"M33_000.txt\",2)"
   ]
  },
  {
   "cell_type": "code",
   "execution_count": 11,
   "metadata": {},
   "outputs": [
    {
     "name": "stdout",
     "output_type": "stream",
     "text": [
      "M33 Halo Mass 0.187 solMass (x 10^12)\n",
      "M33 Disk Mass 0.009 solMass (x 10^12)\n",
      "Total M33 0.196 solMass (x 10^12)\n"
     ]
    }
   ],
   "source": [
    "print(\"M33 Halo Mass\", M33Halo, \"(x 10^12)\")\n",
    "print(\"M33 Disk Mass\", M33Disk, \"(x 10^12)\")\n",
    "TotalM33 = M33Halo + M33Disk\n",
    "print(\"Total M33\", TotalM33, \"(x 10^12)\")"
   ]
  },
  {
   "cell_type": "code",
   "execution_count": 12,
   "metadata": {},
   "outputs": [
    {
     "name": "stdout",
     "output_type": "stream",
     "text": [
      "Local Group Mass 4.316 solMass (x 10^12)\n"
     ]
    }
   ],
   "source": [
    "print(\"Local Group Mass\", TotalMW + TotalM31 + TotalM33, \"(x 10^12)\")"
   ]
  },
  {
   "cell_type": "code",
   "execution_count": null,
   "metadata": {
    "collapsed": true
   },
   "outputs": [],
   "source": []
  }
 ],
 "metadata": {
  "kernelspec": {
   "display_name": "Python 3",
   "language": "python",
   "name": "python3"
  },
  "language_info": {
   "codemirror_mode": {
    "name": "ipython",
    "version": 3
   },
   "file_extension": ".py",
   "mimetype": "text/x-python",
   "name": "python",
   "nbconvert_exporter": "python",
   "pygments_lexer": "ipython3",
   "version": "3.6.1"
  }
 },
 "nbformat": 4,
 "nbformat_minor": 2
}
